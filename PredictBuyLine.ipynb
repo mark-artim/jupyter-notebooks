{
 "cells": [
  {
   "cell_type": "markdown",
   "id": "c58162c6-49b7-4657-8bc4-686e9e00c0ec",
   "metadata": {},
   "source": [
    "# Try to predict buy line"
   ]
  },
  {
   "cell_type": "code",
   "execution_count": 11,
   "id": "e9254230-1888-4a3d-b216-a3f5b2742146",
   "metadata": {
    "scrolled": true
   },
   "outputs": [
    {
     "name": "stderr",
     "output_type": "stream",
     "text": [
      "C:\\Users\\mark.artim\\anaconda3\\Lib\\site-packages\\sklearn\\linear_model\\_logistic.py:469: ConvergenceWarning: lbfgs failed to converge (status=1):\n",
      "STOP: TOTAL NO. of ITERATIONS REACHED LIMIT.\n",
      "\n",
      "Increase the number of iterations (max_iter) or scale the data as shown in:\n",
      "    https://scikit-learn.org/stable/modules/preprocessing.html\n",
      "Please also refer to the documentation for alternative solver options:\n",
      "    https://scikit-learn.org/stable/modules/linear_model.html#logistic-regression\n",
      "  n_iter_i = _check_optimize_result(\n"
     ]
    },
    {
     "name": "stdout",
     "output_type": "stream",
     "text": [
      "Accuracy: 0.49958993985784583\n",
      "The new CSV file, C:/Users/mark.artim/Documents/uncategorized_products_with_buylines.csv, has been created.\n"
     ]
    }
   ],
   "source": [
    "import pandas as pd\n",
    "import csv\n",
    "from sklearn.model_selection import train_test_split\n",
    "from sklearn.feature_extraction.text import TfidfVectorizer\n",
    "from sklearn.linear_model import LogisticRegression\n",
    "\n",
    "# Load your dataset\n",
    "#data = pd.read_csv('categorized_products.csv')\n",
    "file_path_cat = 'C:/Users/mark.artim/OneDrive - Heritage Distribution Holdings/EclipseDownload/categorized_products.csv'\n",
    "data = pd.read_csv(file_path_cat, encoding='windows-1252', skiprows=8)\n",
    "\n",
    "# Prepare the data\n",
    "X = data['DESCRIPTION']\n",
    "y = data['BUYLINE']\n",
    "\n",
    "# Split into training and test sets (if you have a separate uncategorized set, use that for prediction)\n",
    "X_train, X_test, y_train, y_test = train_test_split(X, y, test_size=0.2, random_state=42)\n",
    "\n",
    "# Vectorize the text data\n",
    "vectorizer = TfidfVectorizer()\n",
    "X_train_vec = vectorizer.fit_transform(X_train)\n",
    "X_test_vec = vectorizer.transform(X_test)\n",
    "\n",
    "# Train a classifier\n",
    "classifier = LogisticRegression()\n",
    "classifier.fit(X_train_vec, y_train)\n",
    "\n",
    "# Predict BUYLINES for the test set\n",
    "y_pred = classifier.predict(X_test_vec)\n",
    "\n",
    "# Evaluate the model (optional)\n",
    "from sklearn.metrics import accuracy_score\n",
    "print('Accuracy:', accuracy_score(y_test, y_pred))\n",
    "\n",
    "# Predict BUYLINES for new uncategorized products\n",
    "#uncategorized_data = pd.read_csv('uncategorized_products.csv')\n",
    "file_path_uncat = 'C:/Users/mark.artim/OneDrive - Heritage Distribution Holdings/EclipseDownload/uncategorized_products.csv'\n",
    "uncategorized_data = pd.read_csv(file_path_uncat, encoding='windows-1252', skiprows=8)\n",
    "\n",
    "X_new = uncategorized_data['Description']\n",
    "X_new_vec = vectorizer.transform(X_new)\n",
    "predicted_buylines = classifier.predict(X_new_vec)\n",
    "\n",
    "# Add the predictions to the uncategorized_data DataFrame\n",
    "uncategorized_data['Predicted BUYLINE'] = predicted_buylines\n",
    "\n",
    "# Save the results\n",
    "file_path_res = 'C:/Users/mark.artim/Documents/uncategorized_products_with_buylines.csv'\n",
    "uncategorized_data.to_csv(file_path_res, index=False)\n",
    "print(f\"The new CSV file, {file_path_res}, has been created.\")\n"
   ]
  },
  {
   "cell_type": "code",
   "execution_count": null,
   "id": "3c0bf188-561f-42cb-9923-e8470e8a340e",
   "metadata": {},
   "outputs": [],
   "source": []
  },
  {
   "cell_type": "code",
   "execution_count": null,
   "id": "ca034844-b65f-46f2-8762-76d39e1b6a0d",
   "metadata": {},
   "outputs": [],
   "source": []
  }
 ],
 "metadata": {
  "kernelspec": {
   "display_name": "Python 3 (ipykernel)",
   "language": "python",
   "name": "python3"
  },
  "language_info": {
   "codemirror_mode": {
    "name": "ipython",
    "version": 3
   },
   "file_extension": ".py",
   "mimetype": "text/x-python",
   "name": "python",
   "nbconvert_exporter": "python",
   "pygments_lexer": "ipython3",
   "version": "3.12.4"
  }
 },
 "nbformat": 4,
 "nbformat_minor": 5
}
